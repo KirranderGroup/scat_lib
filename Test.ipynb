{
 "cells": [
  {
   "cell_type": "code",
   "execution_count": 1,
   "id": "96611d32",
   "metadata": {},
   "outputs": [],
   "source": [
    "from pyscf import fci, mcscf, scf, gto\n",
    "from ci_to_2rdm import read_ci_file, update_ci_coeffs\n",
    "import numpy as np\n",
    "from scat_lib import run_scattering_csf\n",
    "from mrh.my_pyscf.fci.csfstring import CSFTransformer"
   ]
  },
  {
   "cell_type": "code",
   "execution_count": 2,
   "id": "4ec44323",
   "metadata": {},
   "outputs": [
    {
     "name": "stdout",
     "output_type": "stream",
     "text": [
      "converged SCF energy = -14.4868202421757\n",
      "CASSCF energy = -14.5314443791087\n",
      "CASCI E = -14.5314443791087  E(CI) = -14.5314443791087  S^2 = 0.0000000\n"
     ]
    },
    {
     "data": {
      "text/plain": [
       "(np.float64(-14.53144437910874),\n",
       " np.float64(-14.53144437910874),\n",
       " FCIvector([[-9.50546941e-01,  0.00000000e+00,  0.00000000e+00, ...,\n",
       "              0.00000000e+00,  0.00000000e+00,  0.00000000e+00],\n",
       "            [ 0.00000000e+00,  1.60648050e-01, -1.16415676e-03, ...,\n",
       "              0.00000000e+00, -5.52216744e-04,  0.00000000e+00],\n",
       "            [ 0.00000000e+00, -1.16415676e-03, -5.93840779e-05, ...,\n",
       "              0.00000000e+00,  8.23699212e-05,  0.00000000e+00],\n",
       "            ...,\n",
       "            [ 0.00000000e+00,  0.00000000e+00,  0.00000000e+00, ...,\n",
       "             -1.14196586e-04,  0.00000000e+00,  0.00000000e+00],\n",
       "            [ 0.00000000e+00, -5.52216744e-04,  8.23699212e-05, ...,\n",
       "              0.00000000e+00, -1.14196586e-04,  0.00000000e+00],\n",
       "            [ 0.00000000e+00,  0.00000000e+00,  0.00000000e+00, ...,\n",
       "              0.00000000e+00,  0.00000000e+00, -1.14196570e-04]]),\n",
       " array([[ 0.99280987, -0.21571232,  0.        ,  0.        ,  0.        ,\n",
       "          0.        ,  0.        ,  0.        , -0.01378371],\n",
       "        [ 0.07642502,  0.22934177,  0.        ,  0.        ,  0.        ,\n",
       "          0.        ,  0.        ,  0.        ,  1.644761  ],\n",
       "        [-0.02872671,  0.82234799,  0.        ,  0.        ,  0.        ,\n",
       "          0.        ,  0.        ,  0.        , -1.45603417],\n",
       "        [ 0.        ,  0.        ,  0.25674648,  0.        ,  0.        ,\n",
       "          0.        ,  1.21006888,  0.        ,  0.        ],\n",
       "        [ 0.        ,  0.        ,  0.        ,  0.        ,  0.25674648,\n",
       "          0.        ,  0.        ,  1.21006888,  0.        ],\n",
       "        [ 0.        ,  0.        ,  0.        ,  0.25674648,  0.        ,\n",
       "          1.21006888,  0.        ,  0.        ,  0.        ],\n",
       "        [ 0.        ,  0.        ,  0.82709493,  0.        ,  0.        ,\n",
       "          0.        , -0.91983663,  0.        ,  0.        ],\n",
       "        [ 0.        ,  0.        ,  0.        ,  0.        ,  0.82709493,\n",
       "          0.        ,  0.        , -0.91983663,  0.        ],\n",
       "        [ 0.        ,  0.        ,  0.        ,  0.82709493,  0.        ,\n",
       "         -0.91983663,  0.        ,  0.        ,  0.        ]]),\n",
       " array([-4.67579952, -0.27700449,  0.06967313,  0.06967313,  0.06967313,\n",
       "         0.46718799,  0.46718799,  0.46718799,  0.55754882]))"
      ]
     },
     "execution_count": 2,
     "metadata": {},
     "output_type": "execute_result"
    }
   ],
   "source": [
    "mol = gto.M(atom = 'Be 0 0 0', spin = 0, charge = 0, cart = True, symmetry=False, basis = '3-21g')\n",
    "mf = scf.HF(mol)\n",
    "mf.kernel()\n",
    "casscf = mcscf.CASSCF(mf, 9, 4)\n",
    "casscf.kernel()"
   ]
  },
  {
   "cell_type": "code",
   "execution_count": 3,
   "id": "f8c95687",
   "metadata": {},
   "outputs": [],
   "source": [
    "occslst = fci.cistring.gen_occslst(range(9), 4 // 2)"
   ]
  },
  {
   "cell_type": "code",
   "execution_count": 4,
   "id": "fda9292b",
   "metadata": {},
   "outputs": [
    {
     "data": {
      "text/plain": [
       "FCIvector([[-9.50546941e-01,  0.00000000e+00,  0.00000000e+00, ...,\n",
       "             0.00000000e+00,  0.00000000e+00,  0.00000000e+00],\n",
       "           [ 0.00000000e+00,  1.60648050e-01, -1.16415676e-03, ...,\n",
       "             0.00000000e+00, -5.52216744e-04,  0.00000000e+00],\n",
       "           [ 0.00000000e+00, -1.16415676e-03, -5.93840779e-05, ...,\n",
       "             0.00000000e+00,  8.23699212e-05,  0.00000000e+00],\n",
       "           ...,\n",
       "           [ 0.00000000e+00,  0.00000000e+00,  0.00000000e+00, ...,\n",
       "            -1.14196586e-04,  0.00000000e+00,  0.00000000e+00],\n",
       "           [ 0.00000000e+00, -5.52216744e-04,  8.23699212e-05, ...,\n",
       "             0.00000000e+00, -1.14196586e-04,  0.00000000e+00],\n",
       "           [ 0.00000000e+00,  0.00000000e+00,  0.00000000e+00, ...,\n",
       "             0.00000000e+00,  0.00000000e+00, -1.14196570e-04]])"
      ]
     },
     "execution_count": 4,
     "metadata": {},
     "output_type": "execute_result"
    }
   ],
   "source": [
    "casscf.ci"
   ]
  },
  {
   "cell_type": "code",
   "execution_count": 5,
   "id": "5accb752",
   "metadata": {},
   "outputs": [
    {
     "ename": "FileNotFoundError",
     "evalue": "[Errno 2] No such file or directory: './321gci_CASCI.txt'",
     "output_type": "error",
     "traceback": [
      "\u001b[0;31m---------------------------------------------------------------------------\u001b[0m",
      "\u001b[0;31mFileNotFoundError\u001b[0m                         Traceback (most recent call last)",
      "Cell \u001b[0;32mIn[5], line 1\u001b[0m\n\u001b[0;32m----> 1\u001b[0m alpha_, beta_, ci \u001b[38;5;241m=\u001b[39m \u001b[43mread_ci_file\u001b[49m\u001b[43m(\u001b[49m\u001b[38;5;124;43m'\u001b[39;49m\u001b[38;5;124;43m./321gci_CASCI.txt\u001b[39;49m\u001b[38;5;124;43m'\u001b[39;49m\u001b[43m)\u001b[49m\n",
      "File \u001b[0;32m/home/lambda/ajmk/sann8252/scat_lib/ci_to_2rdm.py:79\u001b[0m, in \u001b[0;36mread_ci_file\u001b[0;34m(file, sort_by_ci)\u001b[0m\n\u001b[1;32m     60\u001b[0m \u001b[38;5;28;01mdef\u001b[39;00m \u001b[38;5;21mread_ci_file\u001b[39m(file, sort_by_ci \u001b[38;5;241m=\u001b[39m \u001b[38;5;28;01mFalse\u001b[39;00m):\n\u001b[1;32m     61\u001b[0m \u001b[38;5;250m    \u001b[39m\u001b[38;5;124;03m'''\u001b[39;00m\n\u001b[1;32m     62\u001b[0m \u001b[38;5;124;03m    Parse the CI coefficients from a file\u001b[39;00m\n\u001b[1;32m     63\u001b[0m \n\u001b[0;32m   (...)\u001b[0m\n\u001b[1;32m     77\u001b[0m \u001b[38;5;124;03m        CI coefficients\u001b[39;00m\n\u001b[1;32m     78\u001b[0m \u001b[38;5;124;03m    '''\u001b[39;00m\n\u001b[0;32m---> 79\u001b[0m     \u001b[38;5;28;01mwith\u001b[39;00m \u001b[38;5;28;43mopen\u001b[39;49m\u001b[43m(\u001b[49m\u001b[43mfile\u001b[49m\u001b[43m,\u001b[49m\u001b[43m \u001b[49m\u001b[38;5;124;43m'\u001b[39;49m\u001b[38;5;124;43mr\u001b[39;49m\u001b[38;5;124;43m'\u001b[39;49m\u001b[43m)\u001b[49m \u001b[38;5;28;01mas\u001b[39;00m f:\n\u001b[1;32m     80\u001b[0m         lines \u001b[38;5;241m=\u001b[39m f\u001b[38;5;241m.\u001b[39mreadlines()\n\u001b[1;32m     82\u001b[0m     alpha_det \u001b[38;5;241m=\u001b[39m []\n",
      "\u001b[0;31mFileNotFoundError\u001b[0m: [Errno 2] No such file or directory: './321gci_CASCI.txt'"
     ]
    }
   ],
   "source": [
    "alpha_, beta_, ci = read_ci_file('./321gci_CASCI.txt')"
   ]
  },
  {
   "cell_type": "code",
   "execution_count": 15,
   "id": "7f698516",
   "metadata": {},
   "outputs": [
    {
     "data": {
      "text/plain": [
       "FCIvector([[ 9.50546942e-01,  0.00000000e+00,  0.00000000e+00, ...,\n",
       "             0.00000000e+00,  0.00000000e+00,  0.00000000e+00],\n",
       "           [ 0.00000000e+00,  1.60648310e-01, -1.16414587e-03, ...,\n",
       "            -3.70264804e-04, -1.89937272e-04, -3.63020756e-04],\n",
       "           [ 0.00000000e+00, -1.16414587e-03, -5.93942780e-05, ...,\n",
       "             5.52292270e-05,  2.83317760e-05,  5.41490580e-05],\n",
       "           ...,\n",
       "           [ 0.00000000e+00, -3.70264804e-04,  5.52292270e-05, ...,\n",
       "            -1.14194699e-04, -1.66000000e-10, -5.30000000e-11],\n",
       "           [ 0.00000000e+00, -1.89937272e-04,  2.83317760e-05, ...,\n",
       "            -1.66000000e-10, -1.14193734e-04,  1.00000000e-12],\n",
       "           [ 0.00000000e+00, -3.63020756e-04,  5.41490580e-05, ...,\n",
       "            -5.30000000e-11,  1.00000000e-12, -1.14194041e-04]])"
      ]
     },
     "execution_count": 15,
     "metadata": {},
     "output_type": "execute_result"
    }
   ],
   "source": [
    "update_ci_coeffs(alpha, beta, ci, casscf, update=True)"
   ]
  },
  {
   "cell_type": "code",
   "execution_count": 16,
   "id": "3f704114",
   "metadata": {},
   "outputs": [
    {
     "data": {
      "text/plain": [
       "FCIvector([[ 9.50546942e-01,  0.00000000e+00,  0.00000000e+00, ...,\n",
       "             0.00000000e+00,  0.00000000e+00,  0.00000000e+00],\n",
       "           [ 0.00000000e+00,  1.60648310e-01, -1.16414587e-03, ...,\n",
       "            -3.70264804e-04, -1.89937272e-04, -3.63020756e-04],\n",
       "           [ 0.00000000e+00, -1.16414587e-03, -5.93942780e-05, ...,\n",
       "             5.52292270e-05,  2.83317760e-05,  5.41490580e-05],\n",
       "           ...,\n",
       "           [ 0.00000000e+00, -3.70264804e-04,  5.52292270e-05, ...,\n",
       "            -1.14194699e-04, -1.66000000e-10, -5.30000000e-11],\n",
       "           [ 0.00000000e+00, -1.89937272e-04,  2.83317760e-05, ...,\n",
       "            -1.66000000e-10, -1.14193734e-04,  1.00000000e-12],\n",
       "           [ 0.00000000e+00, -3.63020756e-04,  5.41490580e-05, ...,\n",
       "            -5.30000000e-11,  1.00000000e-12, -1.14194041e-04]])"
      ]
     },
     "execution_count": 16,
     "metadata": {},
     "output_type": "execute_result"
    }
   ],
   "source": [
    "casscf.ci"
   ]
  },
  {
   "cell_type": "code",
   "execution_count": 6,
   "id": "283238c2",
   "metadata": {},
   "outputs": [],
   "source": [
    "transformer = CSFTransformer(9, 2, 2, 1)"
   ]
  },
  {
   "cell_type": "code",
   "execution_count": 7,
   "id": "bb12bea8",
   "metadata": {},
   "outputs": [],
   "source": [
    "csf = transformer.vec_det2csf(casscf.ci)"
   ]
  },
  {
   "cell_type": "code",
   "execution_count": 8,
   "id": "57f34ed5",
   "metadata": {},
   "outputs": [],
   "source": [
    "back_ci = transformer.vec_csf2det(csf)"
   ]
  },
  {
   "cell_type": "code",
   "execution_count": 9,
   "id": "92c18e51",
   "metadata": {},
   "outputs": [],
   "source": [
    "occslst = fci.cistring.gen_occslst(range(casscf.ncas), (2 + 2) // 2)\n",
    "alpha = []\n",
    "beta = []\n",
    "\n",
    "for i, occs_alpha in enumerate(occslst.tolist()):\n",
    "    for j, occs_beta in enumerate(occslst.tolist()):\n",
    "        alpha.append(occs_alpha)\n",
    "        beta.append(occs_beta)"
   ]
  },
  {
   "cell_type": "code",
   "execution_count": 10,
   "id": "ed397370",
   "metadata": {},
   "outputs": [],
   "source": [
    "alpha = np.array(alpha)"
   ]
  },
  {
   "cell_type": "code",
   "execution_count": 11,
   "id": "2c19d2c5",
   "metadata": {},
   "outputs": [
    {
     "data": {
      "text/plain": [
       "array([[0, 1],\n",
       "       [0, 1],\n",
       "       [0, 1],\n",
       "       ...,\n",
       "       [7, 8],\n",
       "       [7, 8],\n",
       "       [7, 8]])"
      ]
     },
     "execution_count": 11,
     "metadata": {},
     "output_type": "execute_result"
    }
   ],
   "source": [
    "alpha"
   ]
  },
  {
   "cell_type": "code",
   "execution_count": null,
   "id": "7a9086b3",
   "metadata": {},
   "outputs": [
    {
     "data": {
      "text/plain": [
       "np.True_"
      ]
     },
     "execution_count": 38,
     "metadata": {},
     "output_type": "execute_result"
    }
   ],
   "source": [
    "update_ci_coeffs(alpha, beta)"
   ]
  },
  {
   "cell_type": "code",
   "execution_count": 43,
   "id": "6cb61e15",
   "metadata": {},
   "outputs": [
    {
     "data": {
      "text/plain": [
       "FCIvector([[ 9.50546942e-01,  0.00000000e+00,  0.00000000e+00, ...,\n",
       "             0.00000000e+00,  0.00000000e+00,  0.00000000e+00],\n",
       "           [ 0.00000000e+00,  1.60648310e-01, -1.16414587e-03, ...,\n",
       "            -3.70264949e-04, -1.89937387e-04, -3.63020869e-04],\n",
       "           [ 0.00000000e+00, -1.16414587e-03, -5.93942780e-05, ...,\n",
       "             5.52292827e-05,  2.83318007e-05,  5.41491010e-05],\n",
       "           ...,\n",
       "           [ 0.00000000e+00, -3.70264949e-04,  5.52292827e-05, ...,\n",
       "            -1.14194699e-04, -1.66000000e-10, -5.30000000e-11],\n",
       "           [ 0.00000000e+00, -1.89937387e-04,  2.83318007e-05, ...,\n",
       "            -1.66000000e-10, -1.14193734e-04,  1.00000000e-12],\n",
       "           [ 0.00000000e+00, -3.63020869e-04,  5.41491010e-05, ...,\n",
       "            -5.30000000e-11,  1.00000000e-12, -1.14194041e-04]])"
      ]
     },
     "execution_count": 43,
     "metadata": {},
     "output_type": "execute_result"
    }
   ],
   "source": [
    "update_ci_coeffs(alpha_, beta_, back_ci.flatten(), casscf, update = True)"
   ]
  },
  {
   "cell_type": "code",
   "execution_count": 13,
   "id": "88adbbd3",
   "metadata": {},
   "outputs": [],
   "source": [
    "csf = transformer.vec_det2csf(casscf.ci)"
   ]
  },
  {
   "cell_type": "code",
   "execution_count": 51,
   "id": "e61f17b5",
   "metadata": {},
   "outputs": [],
   "source": [
    "vals, inde, inve= np.unique(csf.round(decimals=10), return_inverse=True, return_index = True)"
   ]
  },
  {
   "cell_type": "code",
   "execution_count": 52,
   "id": "7d8c8ae0",
   "metadata": {},
   "outputs": [
    {
     "data": {
      "text/plain": [
       "array([[20, 20, 20, 20, 20, 20, 20, 20, 20, 20, 20, 20, 34,  2, 20, 20,\n",
       "        20, 20, 20, 20, 20, 20, 20, 20, 20, 20, 20, 20, 20, 20, 34,  2,\n",
       "        20, 20, 20, 20, 20, 20, 20, 20, 20, 20, 20, 20, 20, 20, 20, 20,\n",
       "        20, 20, 20, 20, 20, 20, 20, 20, 20, 20, 20, 20, 13, 23, 20, 20,\n",
       "        20, 20, 20, 20, 20, 20, 20, 20, 20, 20, 20, 20, 20, 20, 34,  2,\n",
       "        20, 20, 20, 20, 20, 20, 20, 20, 20, 20, 20, 20, 20, 20, 20, 20,\n",
       "        20, 20, 20, 20, 20, 20, 20, 20, 20, 20, 20, 20, 24, 23, 20, 20,\n",
       "        20, 20, 20, 20, 20, 20, 20, 20, 20, 20, 20, 20, 20, 20, 24, 23,\n",
       "        20, 20, 20, 20, 20, 20, 20, 20, 20, 20, 20, 20, 20, 20, 20, 20,\n",
       "        20, 20, 20, 20, 20, 20, 20, 20, 20, 20, 20, 20, 20, 20, 20, 20,\n",
       "        20, 20, 20, 20, 20, 20, 31, 19, 14, 21, 20, 20, 20, 20, 20, 20,\n",
       "        20, 20, 20, 20, 20, 20, 31, 19, 14, 21, 20, 20, 20, 20, 20, 20,\n",
       "        20, 20, 20, 20, 20, 20, 20, 20, 20, 20, 20, 20, 20, 20, 20, 20,\n",
       "        20, 20, 20, 20, 20, 20, 20, 20, 20, 20, 20, 20, 20, 20, 31, 19,\n",
       "        14, 21, 20, 20, 20, 20, 20, 20, 20, 20, 20, 20, 20, 20, 20, 20,\n",
       "        20, 20, 20, 20, 20, 20, 20, 20, 20, 20, 20, 20, 20, 20, 20, 20,\n",
       "        20, 20, 20, 20,  1, 20, 20,  1, 20, 20, 20, 20, 20, 20,  1, 20,\n",
       "        20, 38, 20, 20, 20, 20, 20, 20, 20, 20, 20, 20, 20, 20, 20, 20,\n",
       "         4, 20, 20,  4, 20, 20, 20, 20, 20, 20,  4, 20, 20,  5, 20, 20,\n",
       "        20, 20, 20, 20, 33, 20, 20, 20, 20, 20, 20, 20, 29, 20, 20, 20,\n",
       "        20, 20, 20, 20, 20, 20, 29, 20, 20, 28,  6, 20, 20, 20, 20, 20,\n",
       "        33, 20, 20, 20, 20, 20, 20, 20, 20, 20, 20, 20, 10, 20, 20, 20,\n",
       "        20, 20, 29, 20, 20, 28,  6, 20, 20, 20, 20, 20, 33, 20, 20, 20,\n",
       "        20, 20, 20, 20, 20, 10, 20, 20, 10, 20, 20, 20, 20, 20, 20, 20,\n",
       "        20, 28,  6, 20, 20, 20, 20, 20, 36, 20, 20, 20, 20, 20, 20, 20,\n",
       "        20, 20, 20, 20, 12, 20, 20, 20, 20, 20, 20, 11, 20, 30, 22, 20,\n",
       "        20, 20, 20, 20, 36, 20, 20, 20, 20, 20, 20, 20, 20, 20, 20, 20,\n",
       "        20, 26, 20, 20, 20, 20, 20, 11, 20, 30, 22, 20, 20, 20, 20, 20,\n",
       "        36, 20, 20, 20, 20, 20, 20, 20, 20, 20, 20, 20, 20, 27, 20, 20,\n",
       "        20, 27, 20, 20, 20, 30, 22, 20, 20, 20, 20, 20,  3, 20, 20, 20,\n",
       "        20, 20, 20, 20, 20, 20, 20, 20, 20, 25, 20, 20, 20, 25, 20, 20,\n",
       "        20, 20, 20, 20, 20, 25, 20, 20,  0, 40, 18, 40, 18, 16, 40, 18,\n",
       "        16, 16, 37, 35,  7,  9,  7, 37, 35,  9,  7,  7, 17, 37, 35,  7,\n",
       "         7,  9, 17, 17, 39, 32,  8,  8,  8, 15, 15, 15]])"
      ]
     },
     "execution_count": 52,
     "metadata": {},
     "output_type": "execute_result"
    }
   ],
   "source": [
    "inve"
   ]
  },
  {
   "cell_type": "code",
   "execution_count": 32,
   "id": "33cd89b3",
   "metadata": {},
   "outputs": [
    {
     "data": {
      "text/plain": [
       "(1, 540)"
      ]
     },
     "execution_count": 32,
     "metadata": {},
     "output_type": "execute_result"
    }
   ],
   "source": [
    "inve.shape"
   ]
  },
  {
   "cell_type": "code",
   "execution_count": 34,
   "id": "55776658",
   "metadata": {},
   "outputs": [
    {
     "data": {
      "text/plain": [
       "(41,)"
      ]
     },
     "execution_count": 34,
     "metadata": {},
     "output_type": "execute_result"
    }
   ],
   "source": [
    "vals.shape"
   ]
  },
  {
   "cell_type": "code",
   "execution_count": 65,
   "id": "e29d549f",
   "metadata": {},
   "outputs": [
    {
     "data": {
      "text/plain": [
       "array([ 0,  1,  2,  3,  4,  5,  6,  7,  8,  9, 10, 11, 12, 13, 14, 15, 16,\n",
       "       17, 18, 19, 20, 21, 22, 23, 24, 25, 26, 27, 28, 29, 30, 31, 32, 33,\n",
       "       34, 35, 36, 37, 38, 39, 40])"
      ]
     },
     "execution_count": 65,
     "metadata": {},
     "output_type": "execute_result"
    }
   ],
   "source": [
    "count_index"
   ]
  },
  {
   "cell_type": "code",
   "execution_count": 66,
   "id": "7d6991e9",
   "metadata": {},
   "outputs": [
    {
     "data": {
      "text/plain": [
       "array([504, 260,  13, 476, 288, 301, 330, 516, 534, 517, 348, 411, 404,\n",
       "        60, 168, 537, 509, 524, 506, 167,   0, 169, 414,  61, 108, 489,\n",
       "       433, 461, 329, 316, 413, 166, 533, 308,  12, 515, 392, 514, 273,\n",
       "       532, 505])"
      ]
     },
     "execution_count": 66,
     "metadata": {},
     "output_type": "execute_result"
    }
   ],
   "source": [
    "inde"
   ]
  },
  {
   "cell_type": "code",
   "execution_count": 38,
   "id": "436e4224",
   "metadata": {},
   "outputs": [],
   "source": [
    "count_index, counts = np.unique_counts(inve)"
   ]
  },
  {
   "cell_type": "code",
   "execution_count": 57,
   "id": "22fb7c1b",
   "metadata": {},
   "outputs": [],
   "source": [
    "reduced_dict = {a : np.sqrt(b) for a, b in zip(count_index, counts)}"
   ]
  },
  {
   "cell_type": "code",
   "execution_count": 67,
   "id": "7a1fc597",
   "metadata": {},
   "outputs": [
    {
     "data": {
      "text/plain": [
       "{np.int64(0): np.float64(1.0),\n",
       " np.int64(1): np.float64(1.7320508075688772),\n",
       " np.int64(2): np.float64(1.7320508075688772),\n",
       " np.int64(3): np.float64(1.0),\n",
       " np.int64(4): np.float64(1.7320508075688772),\n",
       " np.int64(5): np.float64(1.0),\n",
       " np.int64(6): np.float64(1.7320508075688772),\n",
       " np.int64(7): np.float64(2.449489742783178),\n",
       " np.int64(8): np.float64(1.7320508075688772),\n",
       " np.int64(9): np.float64(1.7320508075688772),\n",
       " np.int64(10): np.float64(1.7320508075688772),\n",
       " np.int64(11): np.float64(1.4142135623730951),\n",
       " np.int64(12): np.float64(1.0),\n",
       " np.int64(13): np.float64(1.0),\n",
       " np.int64(14): np.float64(1.7320508075688772),\n",
       " np.int64(15): np.float64(1.7320508075688772),\n",
       " np.int64(16): np.float64(1.7320508075688772),\n",
       " np.int64(17): np.float64(1.7320508075688772),\n",
       " np.int64(18): np.float64(1.7320508075688772),\n",
       " np.int64(19): np.float64(1.7320508075688772),\n",
       " np.int64(20): np.float64(20.92844953645635),\n",
       " np.int64(21): np.float64(1.7320508075688772),\n",
       " np.int64(22): np.float64(1.7320508075688772),\n",
       " np.int64(23): np.float64(1.7320508075688772),\n",
       " np.int64(24): np.float64(1.4142135623730951),\n",
       " np.int64(25): np.float64(1.7320508075688772),\n",
       " np.int64(26): np.float64(1.0),\n",
       " np.int64(27): np.float64(1.4142135623730951),\n",
       " np.int64(28): np.float64(1.7320508075688772),\n",
       " np.int64(29): np.float64(1.7320508075688772),\n",
       " np.int64(30): np.float64(1.7320508075688772),\n",
       " np.int64(31): np.float64(1.7320508075688772),\n",
       " np.int64(32): np.float64(1.0),\n",
       " np.int64(33): np.float64(1.7320508075688772),\n",
       " np.int64(34): np.float64(1.7320508075688772),\n",
       " np.int64(35): np.float64(1.7320508075688772),\n",
       " np.int64(36): np.float64(1.7320508075688772),\n",
       " np.int64(37): np.float64(1.7320508075688772),\n",
       " np.int64(38): np.float64(1.0),\n",
       " np.int64(39): np.float64(1.0),\n",
       " np.int64(40): np.float64(1.7320508075688772)}"
      ]
     },
     "execution_count": 67,
     "metadata": {},
     "output_type": "execute_result"
    }
   ],
   "source": [
    "reduced_dict"
   ]
  },
  {
   "cell_type": "code",
   "execution_count": 68,
   "id": "b3d0d727",
   "metadata": {},
   "outputs": [],
   "source": [
    "reduced_dict = {a : np.sqrt(b) for a, b in enumerate(counts)}"
   ]
  },
  {
   "cell_type": "code",
   "execution_count": 69,
   "id": "badc161a",
   "metadata": {},
   "outputs": [
    {
     "data": {
      "text/plain": [
       "{0: np.float64(1.0),\n",
       " 1: np.float64(1.7320508075688772),\n",
       " 2: np.float64(1.7320508075688772),\n",
       " 3: np.float64(1.0),\n",
       " 4: np.float64(1.7320508075688772),\n",
       " 5: np.float64(1.0),\n",
       " 6: np.float64(1.7320508075688772),\n",
       " 7: np.float64(2.449489742783178),\n",
       " 8: np.float64(1.7320508075688772),\n",
       " 9: np.float64(1.7320508075688772),\n",
       " 10: np.float64(1.7320508075688772),\n",
       " 11: np.float64(1.4142135623730951),\n",
       " 12: np.float64(1.0),\n",
       " 13: np.float64(1.0),\n",
       " 14: np.float64(1.7320508075688772),\n",
       " 15: np.float64(1.7320508075688772),\n",
       " 16: np.float64(1.7320508075688772),\n",
       " 17: np.float64(1.7320508075688772),\n",
       " 18: np.float64(1.7320508075688772),\n",
       " 19: np.float64(1.7320508075688772),\n",
       " 20: np.float64(20.92844953645635),\n",
       " 21: np.float64(1.7320508075688772),\n",
       " 22: np.float64(1.7320508075688772),\n",
       " 23: np.float64(1.7320508075688772),\n",
       " 24: np.float64(1.4142135623730951),\n",
       " 25: np.float64(1.7320508075688772),\n",
       " 26: np.float64(1.0),\n",
       " 27: np.float64(1.4142135623730951),\n",
       " 28: np.float64(1.7320508075688772),\n",
       " 29: np.float64(1.7320508075688772),\n",
       " 30: np.float64(1.7320508075688772),\n",
       " 31: np.float64(1.7320508075688772),\n",
       " 32: np.float64(1.0),\n",
       " 33: np.float64(1.7320508075688772),\n",
       " 34: np.float64(1.7320508075688772),\n",
       " 35: np.float64(1.7320508075688772),\n",
       " 36: np.float64(1.7320508075688772),\n",
       " 37: np.float64(1.7320508075688772),\n",
       " 38: np.float64(1.0),\n",
       " 39: np.float64(1.0),\n",
       " 40: np.float64(1.7320508075688772)}"
      ]
     },
     "execution_count": 69,
     "metadata": {},
     "output_type": "execute_result"
    }
   ],
   "source": [
    "reduced_dict"
   ]
  },
  {
   "cell_type": "code",
   "execution_count": 58,
   "id": "aec276ba",
   "metadata": {},
   "outputs": [
    {
     "data": {
      "text/plain": [
       "np.float64(0.936544550925209)"
      ]
     },
     "execution_count": 58,
     "metadata": {},
     "output_type": "execute_result"
    }
   ],
   "source": [
    "np.sum(vals**2)"
   ]
  },
  {
   "cell_type": "code",
   "execution_count": 62,
   "id": "d3ff56ba",
   "metadata": {},
   "outputs": [],
   "source": [
    "rescaled_csf = np.array([val * reduced_dict[i] for i, val in enumerate(vals)])"
   ]
  },
  {
   "cell_type": "code",
   "execution_count": 64,
   "id": "42b5cbf7",
   "metadata": {},
   "outputs": [
    {
     "data": {
      "text/plain": [
       "np.float64(0.9999999999179592)"
      ]
     },
     "execution_count": 64,
     "metadata": {},
     "output_type": "execute_result"
    }
   ],
   "source": [
    "np.sum(rescaled_csf**2)"
   ]
  },
  {
   "cell_type": "code",
   "execution_count": 60,
   "id": "18d150f9",
   "metadata": {},
   "outputs": [
    {
     "data": {
      "text/plain": [
       "array([-9.50546941e-01, -7.41758717e-02, -3.43953360e-03, -1.39810580e-03,\n",
       "       -1.05262730e-03, -4.88351800e-04, -4.23024800e-04, -3.65830700e-04,\n",
       "       -2.85171500e-04, -2.77895500e-04, -2.11847800e-04, -1.93662700e-04,\n",
       "       -1.93662600e-04, -1.54326000e-04, -1.42669200e-04, -1.14196600e-04,\n",
       "       -9.79955000e-05, -8.54425000e-05, -5.93841000e-05, -1.61619000e-05,\n",
       "        0.00000000e+00,  1.93183000e-05,  8.41918000e-05,  8.79351000e-05,\n",
       "        1.54326000e-04,  1.87052800e-04,  1.93662600e-04,  1.93662700e-04,\n",
       "        2.00372400e-04,  2.11847800e-04,  4.71036300e-04,  9.56466900e-04,\n",
       "        1.40678690e-03,  1.64636630e-03,  1.78453660e-03,  2.22804510e-03,\n",
       "        4.10267270e-03,  1.93687039e-02,  1.98264000e-02,  2.96670315e-02,\n",
       "        1.60648050e-01])"
      ]
     },
     "execution_count": 60,
     "metadata": {},
     "output_type": "execute_result"
    }
   ],
   "source": [
    "vals"
   ]
  },
  {
   "cell_type": "code",
   "execution_count": 61,
   "id": "d06f1ec4",
   "metadata": {},
   "outputs": [
    {
     "data": {
      "text/plain": [
       "{np.int64(0): np.float64(1.0),\n",
       " np.int64(1): np.float64(1.7320508075688772),\n",
       " np.int64(2): np.float64(1.7320508075688772),\n",
       " np.int64(3): np.float64(1.0),\n",
       " np.int64(4): np.float64(1.7320508075688772),\n",
       " np.int64(5): np.float64(1.0),\n",
       " np.int64(6): np.float64(1.7320508075688772),\n",
       " np.int64(7): np.float64(2.449489742783178),\n",
       " np.int64(8): np.float64(1.7320508075688772),\n",
       " np.int64(9): np.float64(1.7320508075688772),\n",
       " np.int64(10): np.float64(1.7320508075688772),\n",
       " np.int64(11): np.float64(1.4142135623730951),\n",
       " np.int64(12): np.float64(1.0),\n",
       " np.int64(13): np.float64(1.0),\n",
       " np.int64(14): np.float64(1.7320508075688772),\n",
       " np.int64(15): np.float64(1.7320508075688772),\n",
       " np.int64(16): np.float64(1.7320508075688772),\n",
       " np.int64(17): np.float64(1.7320508075688772),\n",
       " np.int64(18): np.float64(1.7320508075688772),\n",
       " np.int64(19): np.float64(1.7320508075688772),\n",
       " np.int64(20): np.float64(20.92844953645635),\n",
       " np.int64(21): np.float64(1.7320508075688772),\n",
       " np.int64(22): np.float64(1.7320508075688772),\n",
       " np.int64(23): np.float64(1.7320508075688772),\n",
       " np.int64(24): np.float64(1.4142135623730951),\n",
       " np.int64(25): np.float64(1.7320508075688772),\n",
       " np.int64(26): np.float64(1.0),\n",
       " np.int64(27): np.float64(1.4142135623730951),\n",
       " np.int64(28): np.float64(1.7320508075688772),\n",
       " np.int64(29): np.float64(1.7320508075688772),\n",
       " np.int64(30): np.float64(1.7320508075688772),\n",
       " np.int64(31): np.float64(1.7320508075688772),\n",
       " np.int64(32): np.float64(1.0),\n",
       " np.int64(33): np.float64(1.7320508075688772),\n",
       " np.int64(34): np.float64(1.7320508075688772),\n",
       " np.int64(35): np.float64(1.7320508075688772),\n",
       " np.int64(36): np.float64(1.7320508075688772),\n",
       " np.int64(37): np.float64(1.7320508075688772),\n",
       " np.int64(38): np.float64(1.0),\n",
       " np.int64(39): np.float64(1.0),\n",
       " np.int64(40): np.float64(1.7320508075688772)}"
      ]
     },
     "execution_count": 61,
     "metadata": {},
     "output_type": "execute_result"
    }
   ],
   "source": [
    "reduced_dict"
   ]
  },
  {
   "cell_type": "code",
   "execution_count": null,
   "id": "b2850eba",
   "metadata": {},
   "outputs": [],
   "source": []
  }
 ],
 "metadata": {
  "kernelspec": {
   "display_name": "Python 3",
   "language": "python",
   "name": "python3"
  },
  "language_info": {
   "codemirror_mode": {
    "name": "ipython",
    "version": 3
   },
   "file_extension": ".py",
   "mimetype": "text/x-python",
   "name": "python",
   "nbconvert_exporter": "python",
   "pygments_lexer": "ipython3",
   "version": "3.11.11"
  }
 },
 "nbformat": 4,
 "nbformat_minor": 5
}
