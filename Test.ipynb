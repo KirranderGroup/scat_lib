{
 "cells": [
  {
   "cell_type": "code",
   "execution_count": 18,
   "id": "96611d32",
   "metadata": {},
   "outputs": [],
   "source": [
    "from pyscf import fci, mcscf, scf, gto\n",
    "from ci_to_2rdm import read_ci_file, update_ci_coeffs\n",
    "import numpy as np\n",
    "from scat_lib import run_scattering_csf\n",
    "from mrh.my_pyscf.fci.csfstring import CSFTransformer"
   ]
  },
  {
   "cell_type": "code",
   "execution_count": 3,
   "id": "4ec44323",
   "metadata": {},
   "outputs": [
    {
     "name": "stdout",
     "output_type": "stream",
     "text": [
      "converged SCF energy = -14.4868202421757\n",
      "CASSCF energy = -14.5314443791087\n",
      "CASCI E = -14.5314443791087  E(CI) = -14.5314443791087  S^2 = 0.0000000\n"
     ]
    },
    {
     "data": {
      "text/plain": [
       "(np.float64(-14.53144437910874),\n",
       " np.float64(-14.53144437910874),\n",
       " FCIvector([[-9.50546941e-01,  0.00000000e+00,  0.00000000e+00, ...,\n",
       "              0.00000000e+00,  0.00000000e+00,  0.00000000e+00],\n",
       "            [ 0.00000000e+00,  1.60648050e-01, -1.16415676e-03, ...,\n",
       "              0.00000000e+00, -5.52216744e-04,  0.00000000e+00],\n",
       "            [ 0.00000000e+00, -1.16415676e-03, -5.93840779e-05, ...,\n",
       "              0.00000000e+00,  8.23699212e-05,  0.00000000e+00],\n",
       "            ...,\n",
       "            [ 0.00000000e+00,  0.00000000e+00,  0.00000000e+00, ...,\n",
       "             -1.14196586e-04,  0.00000000e+00,  0.00000000e+00],\n",
       "            [ 0.00000000e+00, -5.52216744e-04,  8.23699212e-05, ...,\n",
       "              0.00000000e+00, -1.14196586e-04,  0.00000000e+00],\n",
       "            [ 0.00000000e+00,  0.00000000e+00,  0.00000000e+00, ...,\n",
       "              0.00000000e+00,  0.00000000e+00, -1.14196570e-04]]),\n",
       " array([[ 0.99280987, -0.21571232,  0.        ,  0.        ,  0.        ,\n",
       "          0.        ,  0.        ,  0.        , -0.01378371],\n",
       "        [ 0.07642502,  0.22934177,  0.        ,  0.        ,  0.        ,\n",
       "          0.        ,  0.        ,  0.        ,  1.644761  ],\n",
       "        [-0.02872671,  0.82234799,  0.        ,  0.        ,  0.        ,\n",
       "          0.        ,  0.        ,  0.        , -1.45603417],\n",
       "        [ 0.        ,  0.        ,  0.25674648,  0.        ,  0.        ,\n",
       "          0.        ,  1.21006888,  0.        ,  0.        ],\n",
       "        [ 0.        ,  0.        ,  0.        ,  0.        ,  0.25674648,\n",
       "          0.        ,  0.        ,  1.21006888,  0.        ],\n",
       "        [ 0.        ,  0.        ,  0.        ,  0.25674648,  0.        ,\n",
       "          1.21006888,  0.        ,  0.        ,  0.        ],\n",
       "        [ 0.        ,  0.        ,  0.82709493,  0.        ,  0.        ,\n",
       "          0.        , -0.91983663,  0.        ,  0.        ],\n",
       "        [ 0.        ,  0.        ,  0.        ,  0.        ,  0.82709493,\n",
       "          0.        ,  0.        , -0.91983663,  0.        ],\n",
       "        [ 0.        ,  0.        ,  0.        ,  0.82709493,  0.        ,\n",
       "         -0.91983663,  0.        ,  0.        ,  0.        ]]),\n",
       " array([-4.67579952, -0.27700449,  0.06967313,  0.06967313,  0.06967313,\n",
       "         0.46718799,  0.46718799,  0.46718799,  0.55754882]))"
      ]
     },
     "execution_count": 3,
     "metadata": {},
     "output_type": "execute_result"
    }
   ],
   "source": [
    "mol = gto.M(atom = 'Be 0 0 0', spin = 0, charge = 0, cart = True, symmetry=False, basis = '3-21g')\n",
    "mf = scf.HF(mol)\n",
    "mf.kernel()\n",
    "casscf = mcscf.CASSCF(mf, 9, 4)\n",
    "casscf.kernel()"
   ]
  },
  {
   "cell_type": "code",
   "execution_count": 4,
   "id": "f8c95687",
   "metadata": {},
   "outputs": [],
   "source": [
    "occslst = fci.cistring.gen_occslst(range(9), 4 // 2)"
   ]
  },
  {
   "cell_type": "code",
   "execution_count": 7,
   "id": "fda9292b",
   "metadata": {},
   "outputs": [
    {
     "data": {
      "text/plain": [
       "FCIvector([[-9.50546941e-01,  0.00000000e+00,  0.00000000e+00, ...,\n",
       "             0.00000000e+00,  0.00000000e+00,  0.00000000e+00],\n",
       "           [ 0.00000000e+00,  1.60648050e-01, -1.16415676e-03, ...,\n",
       "             0.00000000e+00, -5.52216744e-04,  0.00000000e+00],\n",
       "           [ 0.00000000e+00, -1.16415676e-03, -5.93840779e-05, ...,\n",
       "             0.00000000e+00,  8.23699212e-05,  0.00000000e+00],\n",
       "           ...,\n",
       "           [ 0.00000000e+00,  0.00000000e+00,  0.00000000e+00, ...,\n",
       "            -1.14196586e-04,  0.00000000e+00,  0.00000000e+00],\n",
       "           [ 0.00000000e+00, -5.52216744e-04,  8.23699212e-05, ...,\n",
       "             0.00000000e+00, -1.14196586e-04,  0.00000000e+00],\n",
       "           [ 0.00000000e+00,  0.00000000e+00,  0.00000000e+00, ...,\n",
       "             0.00000000e+00,  0.00000000e+00, -1.14196570e-04]])"
      ]
     },
     "execution_count": 7,
     "metadata": {},
     "output_type": "execute_result"
    }
   ],
   "source": [
    "casscf.ci"
   ]
  },
  {
   "cell_type": "code",
   "execution_count": 40,
   "id": "5accb752",
   "metadata": {},
   "outputs": [],
   "source": [
    "alpha_, beta_, ci = read_ci_file('./321gci_CASCI.txt')"
   ]
  },
  {
   "cell_type": "code",
   "execution_count": 15,
   "id": "7f698516",
   "metadata": {},
   "outputs": [
    {
     "data": {
      "text/plain": [
       "FCIvector([[ 9.50546942e-01,  0.00000000e+00,  0.00000000e+00, ...,\n",
       "             0.00000000e+00,  0.00000000e+00,  0.00000000e+00],\n",
       "           [ 0.00000000e+00,  1.60648310e-01, -1.16414587e-03, ...,\n",
       "            -3.70264804e-04, -1.89937272e-04, -3.63020756e-04],\n",
       "           [ 0.00000000e+00, -1.16414587e-03, -5.93942780e-05, ...,\n",
       "             5.52292270e-05,  2.83317760e-05,  5.41490580e-05],\n",
       "           ...,\n",
       "           [ 0.00000000e+00, -3.70264804e-04,  5.52292270e-05, ...,\n",
       "            -1.14194699e-04, -1.66000000e-10, -5.30000000e-11],\n",
       "           [ 0.00000000e+00, -1.89937272e-04,  2.83317760e-05, ...,\n",
       "            -1.66000000e-10, -1.14193734e-04,  1.00000000e-12],\n",
       "           [ 0.00000000e+00, -3.63020756e-04,  5.41490580e-05, ...,\n",
       "            -5.30000000e-11,  1.00000000e-12, -1.14194041e-04]])"
      ]
     },
     "execution_count": 15,
     "metadata": {},
     "output_type": "execute_result"
    }
   ],
   "source": [
    "update_ci_coeffs(alpha, beta, ci, casscf, update=True)"
   ]
  },
  {
   "cell_type": "code",
   "execution_count": 16,
   "id": "3f704114",
   "metadata": {},
   "outputs": [
    {
     "data": {
      "text/plain": [
       "FCIvector([[ 9.50546942e-01,  0.00000000e+00,  0.00000000e+00, ...,\n",
       "             0.00000000e+00,  0.00000000e+00,  0.00000000e+00],\n",
       "           [ 0.00000000e+00,  1.60648310e-01, -1.16414587e-03, ...,\n",
       "            -3.70264804e-04, -1.89937272e-04, -3.63020756e-04],\n",
       "           [ 0.00000000e+00, -1.16414587e-03, -5.93942780e-05, ...,\n",
       "             5.52292270e-05,  2.83317760e-05,  5.41490580e-05],\n",
       "           ...,\n",
       "           [ 0.00000000e+00, -3.70264804e-04,  5.52292270e-05, ...,\n",
       "            -1.14194699e-04, -1.66000000e-10, -5.30000000e-11],\n",
       "           [ 0.00000000e+00, -1.89937272e-04,  2.83317760e-05, ...,\n",
       "            -1.66000000e-10, -1.14193734e-04,  1.00000000e-12],\n",
       "           [ 0.00000000e+00, -3.63020756e-04,  5.41490580e-05, ...,\n",
       "            -5.30000000e-11,  1.00000000e-12, -1.14194041e-04]])"
      ]
     },
     "execution_count": 16,
     "metadata": {},
     "output_type": "execute_result"
    }
   ],
   "source": [
    "casscf.ci"
   ]
  },
  {
   "cell_type": "code",
   "execution_count": 19,
   "id": "283238c2",
   "metadata": {},
   "outputs": [],
   "source": [
    "transformer = CSFTransformer(9, 2, 2, 1)"
   ]
  },
  {
   "cell_type": "code",
   "execution_count": 20,
   "id": "bb12bea8",
   "metadata": {},
   "outputs": [],
   "source": [
    "csf = transformer.vec_det2csf(casscf.ci)"
   ]
  },
  {
   "cell_type": "code",
   "execution_count": 24,
   "id": "57f34ed5",
   "metadata": {},
   "outputs": [],
   "source": [
    "back_ci = transformer.vec_csf2det(csf)"
   ]
  },
  {
   "cell_type": "code",
   "execution_count": 29,
   "id": "92c18e51",
   "metadata": {},
   "outputs": [],
   "source": [
    "occslst = fci.cistring.gen_occslst(range(casscf.ncas), (2 + 2) // 2)\n",
    "alpha = []\n",
    "beta = []\n",
    "\n",
    "for i, occs_alpha in enumerate(occslst.tolist()):\n",
    "    for j, occs_beta in enumerate(occslst.tolist()):\n",
    "        alpha.append(occs_alpha)\n",
    "        beta.append(occs_beta)"
   ]
  },
  {
   "cell_type": "code",
   "execution_count": 34,
   "id": "ed397370",
   "metadata": {},
   "outputs": [],
   "source": [
    "alpha = np.array(alpha)"
   ]
  },
  {
   "cell_type": "code",
   "execution_count": 39,
   "id": "2c19d2c5",
   "metadata": {},
   "outputs": [
    {
     "data": {
      "text/plain": [
       "array([[0, 1],\n",
       "       [0, 1],\n",
       "       [0, 1],\n",
       "       ...,\n",
       "       [7, 8],\n",
       "       [7, 8],\n",
       "       [7, 8]])"
      ]
     },
     "execution_count": 39,
     "metadata": {},
     "output_type": "execute_result"
    }
   ],
   "source": [
    "alpha"
   ]
  },
  {
   "cell_type": "code",
   "execution_count": 35,
   "id": "b3f7bade",
   "metadata": {},
   "outputs": [
    {
     "data": {
      "text/plain": [
       "array([[0, 1],\n",
       "       [0, 1],\n",
       "       [0, 1],\n",
       "       ...,\n",
       "       [7, 8],\n",
       "       [7, 8],\n",
       "       [7, 8]])"
      ]
     },
     "execution_count": 35,
     "metadata": {},
     "output_type": "execute_result"
    }
   ],
   "source": [
    "alpha_"
   ]
  },
  {
   "cell_type": "code",
   "execution_count": null,
   "id": "7a9086b3",
   "metadata": {},
   "outputs": [
    {
     "data": {
      "text/plain": [
       "np.True_"
      ]
     },
     "execution_count": 38,
     "metadata": {},
     "output_type": "execute_result"
    }
   ],
   "source": [
    "update_ci_coeffs(alpha, beta)"
   ]
  },
  {
   "cell_type": "code",
   "execution_count": 43,
   "id": "6cb61e15",
   "metadata": {},
   "outputs": [
    {
     "data": {
      "text/plain": [
       "FCIvector([[ 9.50546942e-01,  0.00000000e+00,  0.00000000e+00, ...,\n",
       "             0.00000000e+00,  0.00000000e+00,  0.00000000e+00],\n",
       "           [ 0.00000000e+00,  1.60648310e-01, -1.16414587e-03, ...,\n",
       "            -3.70264949e-04, -1.89937387e-04, -3.63020869e-04],\n",
       "           [ 0.00000000e+00, -1.16414587e-03, -5.93942780e-05, ...,\n",
       "             5.52292827e-05,  2.83318007e-05,  5.41491010e-05],\n",
       "           ...,\n",
       "           [ 0.00000000e+00, -3.70264949e-04,  5.52292827e-05, ...,\n",
       "            -1.14194699e-04, -1.66000000e-10, -5.30000000e-11],\n",
       "           [ 0.00000000e+00, -1.89937387e-04,  2.83318007e-05, ...,\n",
       "            -1.66000000e-10, -1.14193734e-04,  1.00000000e-12],\n",
       "           [ 0.00000000e+00, -3.63020869e-04,  5.41491010e-05, ...,\n",
       "            -5.30000000e-11,  1.00000000e-12, -1.14194041e-04]])"
      ]
     },
     "execution_count": 43,
     "metadata": {},
     "output_type": "execute_result"
    }
   ],
   "source": [
    "update_ci_coeffs(alpha_, beta_, back_ci.flatten(), casscf, update = True)"
   ]
  },
  {
   "cell_type": "code",
   "execution_count": null,
   "id": "88adbbd3",
   "metadata": {},
   "outputs": [],
   "source": []
  }
 ],
 "metadata": {
  "kernelspec": {
   "display_name": "Python 3",
   "language": "python",
   "name": "python3"
  },
  "language_info": {
   "codemirror_mode": {
    "name": "ipython",
    "version": 3
   },
   "file_extension": ".py",
   "mimetype": "text/x-python",
   "name": "python",
   "nbconvert_exporter": "python",
   "pygments_lexer": "ipython3",
   "version": "3.11.11"
  }
 },
 "nbformat": 4,
 "nbformat_minor": 5
}
